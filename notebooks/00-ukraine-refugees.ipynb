{
 "cells": [
  {
   "cell_type": "markdown",
   "id": "93366893-5e02-4f06-8cf6-58d01be7fb69",
   "metadata": {},
   "source": [
    "# Ukraine refugees: Totals and locations"
   ]
  },
  {
   "cell_type": "markdown",
   "id": "1b2b9570-994c-4547-81ab-0524e98485e6",
   "metadata": {},
   "source": [
    "Source: [United Nations High Commissioner for Refugees](https://data2.unhcr.org/en/situations/ukraine)"
   ]
  },
  {
   "cell_type": "code",
   "execution_count": 1,
   "id": "2484e45b-c60d-48ed-bb2e-25ad958d832c",
   "metadata": {},
   "outputs": [],
   "source": [
    "%load_ext lab_black"
   ]
  },
  {
   "cell_type": "code",
   "execution_count": 2,
   "id": "0340042e-e074-4eb8-b6d6-3eb218d98571",
   "metadata": {},
   "outputs": [],
   "source": [
    "import pandas as pd\n",
    "import geopandas as gpd\n",
    "import altair as alt\n",
    "import urllib.request, json"
   ]
  },
  {
   "cell_type": "code",
   "execution_count": 3,
   "id": "67ae26f2-445a-4a9c-aaa1-ba737f39c59b",
   "metadata": {},
   "outputs": [],
   "source": [
    "pd.options.display.max_columns = 1000\n",
    "pd.options.display.max_rows = 1000"
   ]
  },
  {
   "cell_type": "markdown",
   "id": "cf5000c3-6380-4acd-a9db-909ec413da58",
   "metadata": {},
   "source": [
    "---"
   ]
  },
  {
   "cell_type": "markdown",
   "id": "268c4160-5595-4740-b177-94078ff6a256",
   "metadata": {},
   "source": [
    "## Totals"
   ]
  },
  {
   "cell_type": "code",
   "execution_count": 4,
   "id": "eac1ca1e-c441-4818-b871-e72ddd701b0e",
   "metadata": {},
   "outputs": [],
   "source": [
    "totals_url = \"https://data2.unhcr.org/population/get/timeseries?widget_id=283561&sv_id=54&population_group=5457&frequency=day&fromDate=1900-01-01&currentSeries=0\""
   ]
  },
  {
   "cell_type": "code",
   "execution_count": 5,
   "id": "de2d0b33-1c84-4665-9d76-aaaa361369e0",
   "metadata": {},
   "outputs": [],
   "source": [
    "with urllib.request.urlopen(totals_url) as url:\n",
    "    totals = json.loads(url.read().decode())"
   ]
  },
  {
   "cell_type": "code",
   "execution_count": 6,
   "id": "90c46576-609c-4e9a-906e-9e4d42037a24",
   "metadata": {},
   "outputs": [],
   "source": [
    "total_df = (\n",
    "    pd.DataFrame(totals[\"data\"][\"timeseries\"])\n",
    "    .rename(columns={\"data_date\": \"date\"})\n",
    "    .drop([\"unix_timestamp\"], axis=1)\n",
    ")"
   ]
  },
  {
   "cell_type": "code",
   "execution_count": 7,
   "id": "d7c2a434-7c7d-47c2-b405-67c938d72b39",
   "metadata": {},
   "outputs": [],
   "source": [
    "total_df[\"cumsum\"] = total_df[\"individuals\"].cumsum()"
   ]
  },
  {
   "cell_type": "code",
   "execution_count": 8,
   "id": "0e1aca4f-10ef-427d-ad1d-18b1a92024d1",
   "metadata": {},
   "outputs": [
    {
     "data": {
      "text/html": [
       "<div>\n",
       "<style scoped>\n",
       "    .dataframe tbody tr th:only-of-type {\n",
       "        vertical-align: middle;\n",
       "    }\n",
       "\n",
       "    .dataframe tbody tr th {\n",
       "        vertical-align: top;\n",
       "    }\n",
       "\n",
       "    .dataframe thead th {\n",
       "        text-align: right;\n",
       "    }\n",
       "</style>\n",
       "<table border=\"1\" class=\"dataframe\">\n",
       "  <thead>\n",
       "    <tr style=\"text-align: right;\">\n",
       "      <th></th>\n",
       "      <th>date</th>\n",
       "      <th>individuals</th>\n",
       "      <th>cumsum</th>\n",
       "    </tr>\n",
       "  </thead>\n",
       "  <tbody>\n",
       "    <tr>\n",
       "      <th>0</th>\n",
       "      <td>2022-02-24</td>\n",
       "      <td>79208</td>\n",
       "      <td>79208</td>\n",
       "    </tr>\n",
       "    <tr>\n",
       "      <th>1</th>\n",
       "      <td>2022-02-25</td>\n",
       "      <td>115157</td>\n",
       "      <td>194365</td>\n",
       "    </tr>\n",
       "    <tr>\n",
       "      <th>2</th>\n",
       "      <td>2022-02-26</td>\n",
       "      <td>150472</td>\n",
       "      <td>344837</td>\n",
       "    </tr>\n",
       "    <tr>\n",
       "      <th>3</th>\n",
       "      <td>2022-02-27</td>\n",
       "      <td>171080</td>\n",
       "      <td>515917</td>\n",
       "    </tr>\n",
       "    <tr>\n",
       "      <th>4</th>\n",
       "      <td>2022-02-28</td>\n",
       "      <td>156771</td>\n",
       "      <td>672688</td>\n",
       "    </tr>\n",
       "    <tr>\n",
       "      <th>5</th>\n",
       "      <td>2022-03-01</td>\n",
       "      <td>197081</td>\n",
       "      <td>869769</td>\n",
       "    </tr>\n",
       "    <tr>\n",
       "      <th>6</th>\n",
       "      <td>2022-03-02</td>\n",
       "      <td>174753</td>\n",
       "      <td>1044522</td>\n",
       "    </tr>\n",
       "    <tr>\n",
       "      <th>7</th>\n",
       "      <td>2022-03-03</td>\n",
       "      <td>165655</td>\n",
       "      <td>1210177</td>\n",
       "    </tr>\n",
       "    <tr>\n",
       "      <th>8</th>\n",
       "      <td>2022-03-04</td>\n",
       "      <td>173455</td>\n",
       "      <td>1383632</td>\n",
       "    </tr>\n",
       "  </tbody>\n",
       "</table>\n",
       "</div>"
      ],
      "text/plain": [
       "         date  individuals   cumsum\n",
       "0  2022-02-24        79208    79208\n",
       "1  2022-02-25       115157   194365\n",
       "2  2022-02-26       150472   344837\n",
       "3  2022-02-27       171080   515917\n",
       "4  2022-02-28       156771   672688\n",
       "5  2022-03-01       197081   869769\n",
       "6  2022-03-02       174753  1044522\n",
       "7  2022-03-03       165655  1210177\n",
       "8  2022-03-04       173455  1383632"
      ]
     },
     "execution_count": 8,
     "metadata": {},
     "output_type": "execute_result"
    }
   ],
   "source": [
    "total_df"
   ]
  },
  {
   "cell_type": "markdown",
   "id": "bcb84ddf-1b61-4383-bcec-eaeba2dc6bbf",
   "metadata": {},
   "source": [
    "---"
   ]
  },
  {
   "cell_type": "markdown",
   "id": "6b225d35-c398-4450-91f2-60daa1629896",
   "metadata": {},
   "source": [
    "## Locations"
   ]
  },
  {
   "cell_type": "code",
   "execution_count": 9,
   "id": "68981f5a-2f92-4096-a6b4-28d66e38c96c",
   "metadata": {},
   "outputs": [],
   "source": [
    "locations_url = \"https://data2.unhcr.org/population/get/sublocation?geo_id=0&forcesublocation=1&widget_id=283557&sv_id=54&color=%233c8dbc&color2=%23303030&population_group=5460\""
   ]
  },
  {
   "cell_type": "code",
   "execution_count": 10,
   "id": "81454f44-b268-4fe3-9b0a-0e0b00d7ab60",
   "metadata": {},
   "outputs": [],
   "source": [
    "with urllib.request.urlopen(locations_url) as url:\n",
    "    locations = json.loads(url.read().decode())"
   ]
  },
  {
   "cell_type": "code",
   "execution_count": 11,
   "id": "7b043649-77ba-425b-8c4f-e307114cd8b4",
   "metadata": {},
   "outputs": [],
   "source": [
    "locations_df = (\n",
    "    pd.DataFrame(locations[\"data\"])\n",
    "    .rename(columns={\"geomaster_name\": \"country\", \"geomaster_id\": \"id\"})\n",
    "    .drop(\n",
    "        [\n",
    "            \"admin_level\",\n",
    "            \"source\",\n",
    "            \"population_groups_concat\",\n",
    "            \"population_group_id\",\n",
    "            \"individuals_type\",\n",
    "            \"demography_type\",\n",
    "            \"households\",\n",
    "            \"population_groups\",\n",
    "            \"color\",\n",
    "            \"published\",\n",
    "            \"lat_max\",\n",
    "            \"lon_max\",\n",
    "            \"lat_min\",\n",
    "            \"lon_min\",\n",
    "        ],\n",
    "        axis=1,\n",
    "    )\n",
    ")"
   ]
  },
  {
   "cell_type": "code",
   "execution_count": 12,
   "id": "8c9c63df-ddf2-4851-a39a-ab56a16577fb",
   "metadata": {},
   "outputs": [
    {
     "data": {
      "text/html": [
       "<div>\n",
       "<style scoped>\n",
       "    .dataframe tbody tr th:only-of-type {\n",
       "        vertical-align: middle;\n",
       "    }\n",
       "\n",
       "    .dataframe tbody tr th {\n",
       "        vertical-align: top;\n",
       "    }\n",
       "\n",
       "    .dataframe thead th {\n",
       "        text-align: right;\n",
       "    }\n",
       "</style>\n",
       "<table border=\"1\" class=\"dataframe\">\n",
       "  <thead>\n",
       "    <tr style=\"text-align: right;\">\n",
       "      <th></th>\n",
       "      <th>country</th>\n",
       "      <th>id</th>\n",
       "      <th>centroid_lon</th>\n",
       "      <th>centroid_lat</th>\n",
       "      <th>date</th>\n",
       "      <th>month</th>\n",
       "      <th>year</th>\n",
       "      <th>individuals</th>\n",
       "      <th>numChildren</th>\n",
       "    </tr>\n",
       "  </thead>\n",
       "  <tbody>\n",
       "    <tr>\n",
       "      <th>0</th>\n",
       "      <td>Poland</td>\n",
       "      <td>10781</td>\n",
       "      <td>19.4013</td>\n",
       "      <td>52.1224</td>\n",
       "      <td>2022-03-04</td>\n",
       "      <td>3</td>\n",
       "      <td>2022</td>\n",
       "      <td>756303</td>\n",
       "      <td>0</td>\n",
       "    </tr>\n",
       "    <tr>\n",
       "      <th>1</th>\n",
       "      <td>Hungary</td>\n",
       "      <td>10783</td>\n",
       "      <td>19.4131</td>\n",
       "      <td>47.1672</td>\n",
       "      <td>2022-03-04</td>\n",
       "      <td>3</td>\n",
       "      <td>2022</td>\n",
       "      <td>157004</td>\n",
       "      <td>0</td>\n",
       "    </tr>\n",
       "    <tr>\n",
       "      <th>2</th>\n",
       "      <td>Republic of Moldova</td>\n",
       "      <td>10784</td>\n",
       "      <td>28.4646</td>\n",
       "      <td>47.1976</td>\n",
       "      <td>2022-03-03</td>\n",
       "      <td>3</td>\n",
       "      <td>2022</td>\n",
       "      <td>103254</td>\n",
       "      <td>0</td>\n",
       "    </tr>\n",
       "    <tr>\n",
       "      <th>3</th>\n",
       "      <td>Slovakia</td>\n",
       "      <td>10785</td>\n",
       "      <td>19.4864</td>\n",
       "      <td>48.7062</td>\n",
       "      <td>2022-03-04</td>\n",
       "      <td>3</td>\n",
       "      <td>2022</td>\n",
       "      <td>101529</td>\n",
       "      <td>0</td>\n",
       "    </tr>\n",
       "    <tr>\n",
       "      <th>4</th>\n",
       "      <td>Romania</td>\n",
       "      <td>10782</td>\n",
       "      <td>25.3</td>\n",
       "      <td>45.8667</td>\n",
       "      <td>2022-03-04</td>\n",
       "      <td>3</td>\n",
       "      <td>2022</td>\n",
       "      <td>63192</td>\n",
       "      <td>0</td>\n",
       "    </tr>\n",
       "    <tr>\n",
       "      <th>5</th>\n",
       "      <td>Russian Federation</td>\n",
       "      <td>10791</td>\n",
       "      <td>38.1556078125</td>\n",
       "      <td>51.488850139616</td>\n",
       "      <td>2022-03-03</td>\n",
       "      <td>3</td>\n",
       "      <td>2022</td>\n",
       "      <td>53300</td>\n",
       "      <td>0</td>\n",
       "    </tr>\n",
       "    <tr>\n",
       "      <th>6</th>\n",
       "      <td>Belarus</td>\n",
       "      <td>10786</td>\n",
       "      <td>28.0463</td>\n",
       "      <td>53.5384</td>\n",
       "      <td>2022-03-04</td>\n",
       "      <td>3</td>\n",
       "      <td>2022</td>\n",
       "      <td>406</td>\n",
       "      <td>0</td>\n",
       "    </tr>\n",
       "  </tbody>\n",
       "</table>\n",
       "</div>"
      ],
      "text/plain": [
       "               country     id   centroid_lon     centroid_lat        date  \\\n",
       "0               Poland  10781        19.4013          52.1224  2022-03-04   \n",
       "1              Hungary  10783        19.4131          47.1672  2022-03-04   \n",
       "2  Republic of Moldova  10784        28.4646          47.1976  2022-03-03   \n",
       "3             Slovakia  10785        19.4864          48.7062  2022-03-04   \n",
       "4              Romania  10782           25.3          45.8667  2022-03-04   \n",
       "5   Russian Federation  10791  38.1556078125  51.488850139616  2022-03-03   \n",
       "6              Belarus  10786        28.0463          53.5384  2022-03-04   \n",
       "\n",
       "  month  year individuals numChildren  \n",
       "0     3  2022      756303           0  \n",
       "1     3  2022      157004           0  \n",
       "2     3  2022      103254           0  \n",
       "3     3  2022      101529           0  \n",
       "4     3  2022       63192           0  \n",
       "5     3  2022       53300           0  \n",
       "6     3  2022         406           0  "
      ]
     },
     "execution_count": 12,
     "metadata": {},
     "output_type": "execute_result"
    }
   ],
   "source": [
    "locations_df"
   ]
  },
  {
   "cell_type": "markdown",
   "id": "22fd74c8-ebee-4ee8-8867-f8664087d03e",
   "metadata": {},
   "source": [
    "---"
   ]
  },
  {
   "cell_type": "markdown",
   "id": "b8bbeb18-05e5-49b2-b38d-c29cc613df90",
   "metadata": {},
   "source": [
    "## Exports"
   ]
  },
  {
   "cell_type": "code",
   "execution_count": 13,
   "id": "2c4bfadd-0ebb-4b11-ab49-62798d7e2a3e",
   "metadata": {},
   "outputs": [],
   "source": [
    "total_df.to_csv(\"data/processed/ukraine_refugees_totals_timeseries.csv\", index=False)\n",
    "locations_df.to_csv(\"data/processed/ukraine_refugees_totals_countries.csv\", index=False)"
   ]
  }
 ],
 "metadata": {
  "kernelspec": {
   "display_name": "Python 3 (ipykernel)",
   "language": "python",
   "name": "python3"
  },
  "language_info": {
   "codemirror_mode": {
    "name": "ipython",
    "version": 3
   },
   "file_extension": ".py",
   "mimetype": "text/x-python",
   "name": "python",
   "nbconvert_exporter": "python",
   "pygments_lexer": "ipython3",
   "version": "3.9.9"
  }
 },
 "nbformat": 4,
 "nbformat_minor": 5
}
